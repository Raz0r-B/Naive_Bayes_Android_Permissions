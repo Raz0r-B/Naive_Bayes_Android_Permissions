{
 "cells": [
  {
   "cell_type": "markdown",
   "id": "tight-trunk",
   "metadata": {
    "papermill": {
     "duration": 0.014603,
     "end_time": "2021-06-13T22:47:58.453187",
     "exception": false,
     "start_time": "2021-06-13T22:47:58.438584",
     "status": "completed"
    },
    "tags": []
   },
   "source": [
    "# Fitting Android Permissions Dataset to Naive Bayes Model"
   ]
  },
  {
   "cell_type": "code",
   "execution_count": 1,
   "id": "aging-safety",
   "metadata": {
    "_cell_guid": "b1076dfc-b9ad-4769-8c92-a6c4dae69d19",
    "_uuid": "8f2839f25d086af736a60e9eeb907d3b93b6e0e5",
    "execution": {
     "iopub.execute_input": "2021-06-13T22:47:58.486549Z",
     "iopub.status.busy": "2021-06-13T22:47:58.484675Z",
     "iopub.status.idle": "2021-06-13T22:47:58.506039Z",
     "shell.execute_reply": "2021-06-13T22:47:58.505122Z",
     "shell.execute_reply.started": "2021-06-13T22:28:09.388480Z"
    },
    "papermill": {
     "duration": 0.039379,
     "end_time": "2021-06-13T22:47:58.506250",
     "exception": false,
     "start_time": "2021-06-13T22:47:58.466871",
     "status": "completed"
    },
    "tags": []
   },
   "outputs": [
    {
     "name": "stdout",
     "output_type": "stream",
     "text": [
      "/kaggle/input/android-permission-dataset/__notebook_source__.ipynb\n",
      "/kaggle/input/android-permission-dataset/Android_Permission.csv\n"
     ]
    }
   ],
   "source": [
    "# This Python 3 environment comes with many helpful analytics libraries installed\n",
    "# It is defined by the kaggle/python Docker image: https://github.com/kaggle/docker-python\n",
    "# For example, here's several helpful packages to load\n",
    "\n",
    "import numpy as np # linear algebra\n",
    "import pandas as pd # data processing, CSV file I/O (e.g. pd.read_csv)\n",
    "\n",
    "# Input data files are available in the read-only \"../input/\" directory\n",
    "# For example, running this (by clicking run or pressing Shift+Enter) will list all files under the input directory\n",
    "\n",
    "import os\n",
    "for dirname, _, filenames in os.walk('/kaggle/input'):\n",
    "    for filename in filenames:\n",
    "        print(os.path.join(dirname, filename))\n",
    "\n",
    "# You can write up to 20GB to the current directory (/kaggle/working/) that gets preserved as output when you create a version using \"Save & Run All\" \n",
    "# You can also write temporary files to /kaggle/temp/, but they won't be saved outside of the current session"
   ]
  },
  {
   "cell_type": "code",
   "execution_count": 2,
   "id": "tropical-label",
   "metadata": {
    "execution": {
     "iopub.execute_input": "2021-06-13T22:47:58.538456Z",
     "iopub.status.busy": "2021-06-13T22:47:58.537500Z",
     "iopub.status.idle": "2021-06-13T22:48:00.279896Z",
     "shell.execute_reply": "2021-06-13T22:48:00.280414Z",
     "shell.execute_reply.started": "2021-06-13T22:28:09.402382Z"
    },
    "papermill": {
     "duration": 1.759787,
     "end_time": "2021-06-13T22:48:00.280588",
     "exception": false,
     "start_time": "2021-06-13T22:47:58.520801",
     "status": "completed"
    },
    "tags": []
   },
   "outputs": [
    {
     "data": {
      "text/html": [
       "<div>\n",
       "<style scoped>\n",
       "    .dataframe tbody tr th:only-of-type {\n",
       "        vertical-align: middle;\n",
       "    }\n",
       "\n",
       "    .dataframe tbody tr th {\n",
       "        vertical-align: top;\n",
       "    }\n",
       "\n",
       "    .dataframe thead th {\n",
       "        text-align: right;\n",
       "    }\n",
       "</style>\n",
       "<table border=\"1\" class=\"dataframe\">\n",
       "  <thead>\n",
       "    <tr style=\"text-align: right;\">\n",
       "      <th></th>\n",
       "      <th>App</th>\n",
       "      <th>Package</th>\n",
       "      <th>Category</th>\n",
       "      <th>Description</th>\n",
       "      <th>Rating</th>\n",
       "      <th>Number of ratings</th>\n",
       "      <th>Price</th>\n",
       "      <th>Related apps</th>\n",
       "      <th>Dangerous permissions count</th>\n",
       "      <th>Safe permissions count</th>\n",
       "      <th>...</th>\n",
       "      <th>Your personal information : read calendar events (D)</th>\n",
       "      <th>Your personal information : read contact data (D)</th>\n",
       "      <th>Your personal information : read sensitive log data (D)</th>\n",
       "      <th>Your personal information : read user defined dictionary (D)</th>\n",
       "      <th>Your personal information : retrieve system internal state (S)</th>\n",
       "      <th>Your personal information : set alarm in alarm clock (S)</th>\n",
       "      <th>Your personal information : write Browser's history and bookmarks (D)</th>\n",
       "      <th>Your personal information : write contact data (D)</th>\n",
       "      <th>Your personal information : write to user defined dictionary (S)</th>\n",
       "      <th>Class</th>\n",
       "    </tr>\n",
       "  </thead>\n",
       "  <tbody>\n",
       "    <tr>\n",
       "      <th>0</th>\n",
       "      <td>Canada Post Corporation</td>\n",
       "      <td>com.canadapost.android</td>\n",
       "      <td>Business</td>\n",
       "      <td>Canada Post Mobile App gives you access to som...</td>\n",
       "      <td>3.1</td>\n",
       "      <td>77</td>\n",
       "      <td>0.00</td>\n",
       "      <td>{com.adaffix.pub.ca.android, com.kevinquan.gas...</td>\n",
       "      <td>7.0</td>\n",
       "      <td>1</td>\n",
       "      <td>...</td>\n",
       "      <td>0</td>\n",
       "      <td>1</td>\n",
       "      <td>0</td>\n",
       "      <td>0</td>\n",
       "      <td>0</td>\n",
       "      <td>0</td>\n",
       "      <td>0</td>\n",
       "      <td>1</td>\n",
       "      <td>0</td>\n",
       "      <td>0</td>\n",
       "    </tr>\n",
       "    <tr>\n",
       "      <th>1</th>\n",
       "      <td>Word Farm</td>\n",
       "      <td>com.realcasualgames.words</td>\n",
       "      <td>Brain &amp; Puzzle</td>\n",
       "      <td>Speed and strategy combine in this exciting wo...</td>\n",
       "      <td>4.3</td>\n",
       "      <td>199</td>\n",
       "      <td>0.00</td>\n",
       "      <td>{air.com.zubawing.FastWordLite, com.joybits.do...</td>\n",
       "      <td>3.0</td>\n",
       "      <td>2</td>\n",
       "      <td>...</td>\n",
       "      <td>0</td>\n",
       "      <td>0</td>\n",
       "      <td>0</td>\n",
       "      <td>0</td>\n",
       "      <td>0</td>\n",
       "      <td>0</td>\n",
       "      <td>0</td>\n",
       "      <td>0</td>\n",
       "      <td>0</td>\n",
       "      <td>0</td>\n",
       "    </tr>\n",
       "    <tr>\n",
       "      <th>2</th>\n",
       "      <td>Fortunes of War FREE</td>\n",
       "      <td>fortunesofwar.free</td>\n",
       "      <td>Cards &amp; Casino</td>\n",
       "      <td>Fortunes of War is a fast-paced, easy to learn...</td>\n",
       "      <td>4.1</td>\n",
       "      <td>243</td>\n",
       "      <td>0.00</td>\n",
       "      <td>{com.kevinquan.condado, hu.monsta.pazaak, net....</td>\n",
       "      <td>1.0</td>\n",
       "      <td>1</td>\n",
       "      <td>...</td>\n",
       "      <td>0</td>\n",
       "      <td>0</td>\n",
       "      <td>0</td>\n",
       "      <td>0</td>\n",
       "      <td>0</td>\n",
       "      <td>0</td>\n",
       "      <td>0</td>\n",
       "      <td>0</td>\n",
       "      <td>0</td>\n",
       "      <td>0</td>\n",
       "    </tr>\n",
       "    <tr>\n",
       "      <th>3</th>\n",
       "      <td>Better Keyboard: Avatar Purple</td>\n",
       "      <td>com.cc.betterkeyboard.skins.avatarpurple</td>\n",
       "      <td>Libraries &amp; Demo</td>\n",
       "      <td>Skin for Better Keyboard featuring a glossy fe...</td>\n",
       "      <td>3.6</td>\n",
       "      <td>2589</td>\n",
       "      <td>0.00</td>\n",
       "      <td>{eu.gdumoulin.betterandroid.skins.transparent....</td>\n",
       "      <td>0.0</td>\n",
       "      <td>0</td>\n",
       "      <td>...</td>\n",
       "      <td>0</td>\n",
       "      <td>0</td>\n",
       "      <td>0</td>\n",
       "      <td>0</td>\n",
       "      <td>0</td>\n",
       "      <td>0</td>\n",
       "      <td>0</td>\n",
       "      <td>0</td>\n",
       "      <td>0</td>\n",
       "      <td>0</td>\n",
       "    </tr>\n",
       "    <tr>\n",
       "      <th>4</th>\n",
       "      <td>Boxing Day</td>\n",
       "      <td>indiaNIC.android.BoxingDay</td>\n",
       "      <td>Lifestyle</td>\n",
       "      <td>Boxing Day by Christopher Jaymes&lt;p&gt;Based on a ...</td>\n",
       "      <td>0.0</td>\n",
       "      <td>0</td>\n",
       "      <td>5.99</td>\n",
       "      <td>NaN</td>\n",
       "      <td>1.0</td>\n",
       "      <td>0</td>\n",
       "      <td>...</td>\n",
       "      <td>0</td>\n",
       "      <td>0</td>\n",
       "      <td>0</td>\n",
       "      <td>0</td>\n",
       "      <td>0</td>\n",
       "      <td>0</td>\n",
       "      <td>0</td>\n",
       "      <td>0</td>\n",
       "      <td>0</td>\n",
       "      <td>1</td>\n",
       "    </tr>\n",
       "  </tbody>\n",
       "</table>\n",
       "<p>5 rows × 184 columns</p>\n",
       "</div>"
      ],
      "text/plain": [
       "                              App                                   Package  \\\n",
       "0         Canada Post Corporation                    com.canadapost.android   \n",
       "1                       Word Farm                 com.realcasualgames.words   \n",
       "2            Fortunes of War FREE                        fortunesofwar.free   \n",
       "3  Better Keyboard: Avatar Purple  com.cc.betterkeyboard.skins.avatarpurple   \n",
       "4                      Boxing Day                indiaNIC.android.BoxingDay   \n",
       "\n",
       "           Category                                        Description  \\\n",
       "0          Business  Canada Post Mobile App gives you access to som...   \n",
       "1    Brain & Puzzle  Speed and strategy combine in this exciting wo...   \n",
       "2    Cards & Casino  Fortunes of War is a fast-paced, easy to learn...   \n",
       "3  Libraries & Demo  Skin for Better Keyboard featuring a glossy fe...   \n",
       "4         Lifestyle  Boxing Day by Christopher Jaymes<p>Based on a ...   \n",
       "\n",
       "   Rating  Number of ratings  Price  \\\n",
       "0     3.1                 77   0.00   \n",
       "1     4.3                199   0.00   \n",
       "2     4.1                243   0.00   \n",
       "3     3.6               2589   0.00   \n",
       "4     0.0                  0   5.99   \n",
       "\n",
       "                                        Related apps  \\\n",
       "0  {com.adaffix.pub.ca.android, com.kevinquan.gas...   \n",
       "1  {air.com.zubawing.FastWordLite, com.joybits.do...   \n",
       "2  {com.kevinquan.condado, hu.monsta.pazaak, net....   \n",
       "3  {eu.gdumoulin.betterandroid.skins.transparent....   \n",
       "4                                                NaN   \n",
       "\n",
       "   Dangerous permissions count  Safe permissions count  ...  \\\n",
       "0                          7.0                       1  ...   \n",
       "1                          3.0                       2  ...   \n",
       "2                          1.0                       1  ...   \n",
       "3                          0.0                       0  ...   \n",
       "4                          1.0                       0  ...   \n",
       "\n",
       "   Your personal information : read calendar events (D)  \\\n",
       "0                                                  0      \n",
       "1                                                  0      \n",
       "2                                                  0      \n",
       "3                                                  0      \n",
       "4                                                  0      \n",
       "\n",
       "   Your personal information : read contact data (D)  \\\n",
       "0                                                  1   \n",
       "1                                                  0   \n",
       "2                                                  0   \n",
       "3                                                  0   \n",
       "4                                                  0   \n",
       "\n",
       "   Your personal information : read sensitive log data (D)  \\\n",
       "0                                                  0         \n",
       "1                                                  0         \n",
       "2                                                  0         \n",
       "3                                                  0         \n",
       "4                                                  0         \n",
       "\n",
       "   Your personal information : read user defined dictionary (D)  \\\n",
       "0                                                  0              \n",
       "1                                                  0              \n",
       "2                                                  0              \n",
       "3                                                  0              \n",
       "4                                                  0              \n",
       "\n",
       "   Your personal information : retrieve system internal state (S)  \\\n",
       "0                                                  0                \n",
       "1                                                  0                \n",
       "2                                                  0                \n",
       "3                                                  0                \n",
       "4                                                  0                \n",
       "\n",
       "   Your personal information : set alarm in alarm clock (S)  \\\n",
       "0                                                  0          \n",
       "1                                                  0          \n",
       "2                                                  0          \n",
       "3                                                  0          \n",
       "4                                                  0          \n",
       "\n",
       "   Your personal information : write Browser's history and bookmarks (D)  \\\n",
       "0                                                  0                       \n",
       "1                                                  0                       \n",
       "2                                                  0                       \n",
       "3                                                  0                       \n",
       "4                                                  0                       \n",
       "\n",
       "   Your personal information : write contact data (D)  \\\n",
       "0                                                  1    \n",
       "1                                                  0    \n",
       "2                                                  0    \n",
       "3                                                  0    \n",
       "4                                                  0    \n",
       "\n",
       "   Your personal information : write to user defined dictionary (S)  Class  \n",
       "0                                                  0                     0  \n",
       "1                                                  0                     0  \n",
       "2                                                  0                     0  \n",
       "3                                                  0                     0  \n",
       "4                                                  0                     1  \n",
       "\n",
       "[5 rows x 184 columns]"
      ]
     },
     "execution_count": 2,
     "metadata": {},
     "output_type": "execute_result"
    }
   ],
   "source": [
    "import numpy as np \n",
    "import pandas as pd  \n",
    "\n",
    "df = pd.read_csv('../input/android-permission-dataset/Android_Permission.csv')\n",
    "df.head()\n"
   ]
  },
  {
   "cell_type": "markdown",
   "id": "noticed-premium",
   "metadata": {
    "papermill": {
     "duration": 0.01443,
     "end_time": "2021-06-13T22:48:00.309843",
     "exception": false,
     "start_time": "2021-06-13T22:48:00.295413",
     "status": "completed"
    },
    "tags": []
   },
   "source": [
    "## Initial clean up and exploration"
   ]
  },
  {
   "cell_type": "code",
   "execution_count": 3,
   "id": "expired-multiple",
   "metadata": {
    "execution": {
     "iopub.execute_input": "2021-06-13T22:48:00.343054Z",
     "iopub.status.busy": "2021-06-13T22:48:00.342101Z",
     "iopub.status.idle": "2021-06-13T22:48:00.347579Z",
     "shell.execute_reply": "2021-06-13T22:48:00.348014Z",
     "shell.execute_reply.started": "2021-06-13T22:28:10.132503Z"
    },
    "papermill": {
     "duration": 0.023622,
     "end_time": "2021-06-13T22:48:00.348181",
     "exception": false,
     "start_time": "2021-06-13T22:48:00.324559",
     "status": "completed"
    },
    "tags": []
   },
   "outputs": [
    {
     "data": {
      "text/plain": [
       "(29999, 184)"
      ]
     },
     "execution_count": 3,
     "metadata": {},
     "output_type": "execute_result"
    }
   ],
   "source": [
    "df.shape"
   ]
  },
  {
   "cell_type": "code",
   "execution_count": 4,
   "id": "dynamic-livestock",
   "metadata": {
    "execution": {
     "iopub.execute_input": "2021-06-13T22:48:00.382110Z",
     "iopub.status.busy": "2021-06-13T22:48:00.381112Z",
     "iopub.status.idle": "2021-06-13T22:48:00.642569Z",
     "shell.execute_reply": "2021-06-13T22:48:00.642042Z",
     "shell.execute_reply.started": "2021-06-13T22:28:10.141793Z"
    },
    "papermill": {
     "duration": 0.279606,
     "end_time": "2021-06-13T22:48:00.642718",
     "exception": false,
     "start_time": "2021-06-13T22:48:00.363112",
     "status": "completed"
    },
    "tags": []
   },
   "outputs": [
    {
     "data": {
      "text/plain": [
       "(26586, 184)"
      ]
     },
     "execution_count": 4,
     "metadata": {},
     "output_type": "execute_result"
    }
   ],
   "source": [
    "df.drop_duplicates(inplace=True)\n",
    "df.dropna(inplace=True) \n",
    "df.shape"
   ]
  },
  {
   "cell_type": "markdown",
   "id": "orange-packet",
   "metadata": {
    "papermill": {
     "duration": 0.015263,
     "end_time": "2021-06-13T22:48:00.674852",
     "exception": false,
     "start_time": "2021-06-13T22:48:00.659589",
     "status": "completed"
    },
    "tags": []
   },
   "source": [
    "### Ratio off malware to benign application in original data set"
   ]
  },
  {
   "cell_type": "code",
   "execution_count": 5,
   "id": "sharing-moses",
   "metadata": {
    "execution": {
     "iopub.execute_input": "2021-06-13T22:48:00.713153Z",
     "iopub.status.busy": "2021-06-13T22:48:00.711963Z",
     "iopub.status.idle": "2021-06-13T22:48:00.745474Z",
     "shell.execute_reply": "2021-06-13T22:48:00.744552Z",
     "shell.execute_reply.started": "2021-06-13T22:28:10.371582Z"
    },
    "papermill": {
     "duration": 0.055637,
     "end_time": "2021-06-13T22:48:00.745674",
     "exception": false,
     "start_time": "2021-06-13T22:48:00.690037",
     "status": "completed"
    },
    "tags": []
   },
   "outputs": [
    {
     "name": "stdout",
     "output_type": "stream",
     "text": [
      "Percentages of malware and benign applications in original dataset:\n",
      "Num of Malware: 17592 (66.17%)\n",
      "Num of benign: 8994 (33.83%)\n"
     ]
    }
   ],
   "source": [
    "obs=len(df)\n",
    "mal= len(df.loc[df['Class'] == 1])\n",
    "not_mal= len(df.loc[df['Class'] == 0])\n",
    "print('Percentages of malware and benign applications in original dataset:')\n",
    "print('Num of Malware: {0} ({1:.2f}%)'.format(mal, (mal/obs)*100))\n",
    "print('Num of benign: {0} ({1:.2f}%)'.format(not_mal, (not_mal/obs)*100))"
   ]
  },
  {
   "cell_type": "markdown",
   "id": "curious-yugoslavia",
   "metadata": {
    "papermill": {
     "duration": 0.015665,
     "end_time": "2021-06-13T22:48:00.777957",
     "exception": false,
     "start_time": "2021-06-13T22:48:00.762292",
     "status": "completed"
    },
    "tags": []
   },
   "source": [
    "## Below finds all columns with binary values that are application permissions, parsed using using the ':' character.\n",
    "### only the list of permissions, both danerous and safe, are going to be used in evaluation the naive bayes model\n"
   ]
  },
  {
   "cell_type": "code",
   "execution_count": 6,
   "id": "spatial-order",
   "metadata": {
    "execution": {
     "iopub.execute_input": "2021-06-13T22:48:00.815952Z",
     "iopub.status.busy": "2021-06-13T22:48:00.815280Z",
     "iopub.status.idle": "2021-06-13T22:48:00.818008Z",
     "shell.execute_reply": "2021-06-13T22:48:00.818490Z",
     "shell.execute_reply.started": "2021-06-13T22:28:10.408503Z"
    },
    "papermill": {
     "duration": 0.024785,
     "end_time": "2021-06-13T22:48:00.818669",
     "exception": false,
     "start_time": "2021-06-13T22:48:00.793884",
     "status": "completed"
    },
    "tags": []
   },
   "outputs": [],
   "source": [
    "permission_columns=df.columns[df.columns.str.contains(':')].to_list()\n"
   ]
  },
  {
   "cell_type": "markdown",
   "id": "ancient-association",
   "metadata": {
    "papermill": {
     "duration": 0.015425,
     "end_time": "2021-06-13T22:48:00.850058",
     "exception": false,
     "start_time": "2021-06-13T22:48:00.834633",
     "status": "completed"
    },
    "tags": []
   },
   "source": [
    "# Gathering data and preparing the Naive Bayes Model"
   ]
  },
  {
   "cell_type": "code",
   "execution_count": 7,
   "id": "powered-distributor",
   "metadata": {
    "execution": {
     "iopub.execute_input": "2021-06-13T22:48:00.888047Z",
     "iopub.status.busy": "2021-06-13T22:48:00.887221Z",
     "iopub.status.idle": "2021-06-13T22:48:02.042419Z",
     "shell.execute_reply": "2021-06-13T22:48:02.042952Z",
     "shell.execute_reply.started": "2021-06-13T22:30:46.969178Z"
    },
    "papermill": {
     "duration": 1.177256,
     "end_time": "2021-06-13T22:48:02.043133",
     "exception": false,
     "start_time": "2021-06-13T22:48:00.865877",
     "status": "completed"
    },
    "tags": []
   },
   "outputs": [],
   "source": [
    "from sklearn.model_selection import train_test_split\n",
    "# Selecting feature and target columns\n",
    "feature_cols =  permission_columns \n",
    "target_cols= ['Class']\n",
    "\n",
    "# setting up 2 dataframes; one for the features, and one for the target variable\n",
    "X= df[feature_cols].values #predictor columns\n",
    "y= df[target_cols].values\n",
    "\n",
    "\n",
    "\n",
    "X_train, X_test, y_train, y_test = train_test_split(X,y, test_size=0.30, random_state=42)"
   ]
  },
  {
   "cell_type": "code",
   "execution_count": 8,
   "id": "miniature-round",
   "metadata": {
    "execution": {
     "iopub.execute_input": "2021-06-13T22:48:02.079574Z",
     "iopub.status.busy": "2021-06-13T22:48:02.078575Z",
     "iopub.status.idle": "2021-06-13T22:48:02.149792Z",
     "shell.execute_reply": "2021-06-13T22:48:02.150329Z",
     "shell.execute_reply.started": "2021-06-13T22:30:49.854071Z"
    },
    "papermill": {
     "duration": 0.090779,
     "end_time": "2021-06-13T22:48:02.150531",
     "exception": false,
     "start_time": "2021-06-13T22:48:02.059752",
     "status": "completed"
    },
    "tags": []
   },
   "outputs": [
    {
     "data": {
      "text/plain": [
       "GaussianNB()"
      ]
     },
     "execution_count": 8,
     "metadata": {},
     "output_type": "execute_result"
    }
   ],
   "source": [
    "### Training Algorithm\n",
    "from sklearn.naive_bayes import GaussianNB\n",
    "\n",
    "model = GaussianNB()\n",
    "\n",
    "model.fit(X_train, y_train.ravel())"
   ]
  },
  {
   "cell_type": "markdown",
   "id": "medium-thickness",
   "metadata": {
    "papermill": {
     "duration": 0.01586,
     "end_time": "2021-06-13T22:48:02.182507",
     "exception": false,
     "start_time": "2021-06-13T22:48:02.166647",
     "status": "completed"
    },
    "tags": []
   },
   "source": [
    "# Evaluating performance of Naive Bayes"
   ]
  },
  {
   "cell_type": "code",
   "execution_count": 9,
   "id": "hindu-directory",
   "metadata": {
    "execution": {
     "iopub.execute_input": "2021-06-13T22:48:02.218662Z",
     "iopub.status.busy": "2021-06-13T22:48:02.217704Z",
     "iopub.status.idle": "2021-06-13T22:48:02.300174Z",
     "shell.execute_reply": "2021-06-13T22:48:02.299644Z",
     "shell.execute_reply.started": "2021-06-13T22:34:38.160736Z"
    },
    "papermill": {
     "duration": 0.101619,
     "end_time": "2021-06-13T22:48:02.300338",
     "exception": false,
     "start_time": "2021-06-13T22:48:02.198719",
     "status": "completed"
    },
    "tags": []
   },
   "outputs": [
    {
     "name": "stdout",
     "output_type": "stream",
     "text": [
      " Training Accuracy: 0.6659\n",
      "Testing Accuracy: 0.6630\n"
     ]
    }
   ],
   "source": [
    "# Predicting values based on training data\n",
    "predict_train = model.predict(X_train)\n",
    "predict_test = model.predict(X_test)\n",
    "\n",
    "from sklearn import metrics\n",
    "\n",
    "print(\" Training Accuracy: {0:.4f}\".format(metrics.accuracy_score(y_train, predict_train)))\n",
    "print(\"Testing Accuracy: {0:.4f}\".format(metrics.accuracy_score(y_test, predict_test)))"
   ]
  },
  {
   "cell_type": "markdown",
   "id": "southern-lodge",
   "metadata": {
    "papermill": {
     "duration": 0.016127,
     "end_time": "2021-06-13T22:48:02.333017",
     "exception": false,
     "start_time": "2021-06-13T22:48:02.316890",
     "status": "completed"
    },
    "tags": []
   },
   "source": [
    "## Confusion Matrix and Classification Report"
   ]
  },
  {
   "cell_type": "code",
   "execution_count": 10,
   "id": "absent-slovenia",
   "metadata": {
    "execution": {
     "iopub.execute_input": "2021-06-13T22:48:02.372459Z",
     "iopub.status.busy": "2021-06-13T22:48:02.371408Z",
     "iopub.status.idle": "2021-06-13T22:48:02.404392Z",
     "shell.execute_reply": "2021-06-13T22:48:02.403815Z",
     "shell.execute_reply.started": "2021-06-13T22:35:15.788505Z"
    },
    "papermill": {
     "duration": 0.054793,
     "end_time": "2021-06-13T22:48:02.404543",
     "exception": false,
     "start_time": "2021-06-13T22:48:02.349750",
     "status": "completed"
    },
    "tags": []
   },
   "outputs": [
    {
     "name": "stdout",
     "output_type": "stream",
     "text": [
      "Confusion Matrix\n",
      "[[ 168 2505]\n",
      " [ 183 5120]]\n",
      "Classification Report\n",
      "              precision    recall  f1-score   support\n",
      "\n",
      "           0       0.48      0.06      0.11      2673\n",
      "           1       0.67      0.97      0.79      5303\n",
      "\n",
      "    accuracy                           0.66      7976\n",
      "   macro avg       0.58      0.51      0.45      7976\n",
      "weighted avg       0.61      0.66      0.56      7976\n",
      "\n"
     ]
    }
   ],
   "source": [
    "print('Confusion Matrix')\n",
    "print(metrics.confusion_matrix(y_test, predict_test), end=\"\\n\")\n",
    "print('Classification Report')\n",
    "print(metrics.classification_report(y_test, predict_test))"
   ]
  },
  {
   "cell_type": "code",
   "execution_count": null,
   "id": "shaped-regard",
   "metadata": {
    "papermill": {
     "duration": 0.016349,
     "end_time": "2021-06-13T22:48:02.437902",
     "exception": false,
     "start_time": "2021-06-13T22:48:02.421553",
     "status": "completed"
    },
    "tags": []
   },
   "outputs": [],
   "source": []
  },
  {
   "cell_type": "code",
   "execution_count": null,
   "id": "outer-arcade",
   "metadata": {
    "papermill": {
     "duration": 0.016387,
     "end_time": "2021-06-13T22:48:02.471047",
     "exception": false,
     "start_time": "2021-06-13T22:48:02.454660",
     "status": "completed"
    },
    "tags": []
   },
   "outputs": [],
   "source": []
  }
 ],
 "metadata": {
  "kernelspec": {
   "display_name": "Python 3",
   "language": "python",
   "name": "python3"
  },
  "language_info": {
   "codemirror_mode": {
    "name": "ipython",
    "version": 3
   },
   "file_extension": ".py",
   "mimetype": "text/x-python",
   "name": "python",
   "nbconvert_exporter": "python",
   "pygments_lexer": "ipython3",
   "version": "3.7.9"
  },
  "papermill": {
   "default_parameters": {},
   "duration": 10.812074,
   "end_time": "2021-06-13T22:48:03.198790",
   "environment_variables": {},
   "exception": null,
   "input_path": "__notebook__.ipynb",
   "output_path": "__notebook__.ipynb",
   "parameters": {},
   "start_time": "2021-06-13T22:47:52.386716",
   "version": "2.3.2"
  }
 },
 "nbformat": 4,
 "nbformat_minor": 5
}
